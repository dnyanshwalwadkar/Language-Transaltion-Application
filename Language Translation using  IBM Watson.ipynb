{
 "cells": [
  {
   "cell_type": "code",
   "execution_count": 1,
   "metadata": {
    "collapsed": true
   },
   "outputs": [
    {
     "name": "stdout",
     "output_type": "stream",
     "text": [
      "Collecting ibm_watson\n",
      "  Downloading ibm-watson-6.0.0.tar.gz (338 kB)\n",
      "  Installing build dependencies: started\n",
      "  Installing build dependencies: finished with status 'done'\n",
      "  Getting requirements to build wheel: started\n",
      "  Getting requirements to build wheel: finished with status 'done'\n",
      "    Preparing wheel metadata: started\n",
      "    Preparing wheel metadata: finished with status 'done'\n",
      "Requirement already satisfied: python-dateutil>=2.5.3 in e:\\anaconda3\\lib\\site-packages (from ibm_watson) (2.8.1)\n",
      "Collecting ibm-cloud-sdk-core==3.*,>=3.3.6\n",
      "  Downloading ibm-cloud-sdk-core-3.15.3.tar.gz (50 kB)\n",
      "Requirement already satisfied: requests<3.0,>=2.0 in e:\\anaconda3\\lib\\site-packages (from ibm_watson) (2.27.1)\n",
      "Collecting websocket-client==1.1.0\n",
      "  Downloading websocket_client-1.1.0-py2.py3-none-any.whl (68 kB)\n",
      "Requirement already satisfied: urllib3<2.0.0,>=1.26.0 in e:\\anaconda3\\lib\\site-packages (from ibm-cloud-sdk-core==3.*,>=3.3.6->ibm_watson) (1.26.4)\n",
      "Collecting PyJWT<3.0.0,>=2.4.0\n",
      "  Using cached PyJWT-2.4.0-py3-none-any.whl (18 kB)\n",
      "Requirement already satisfied: six>=1.5 in e:\\anaconda3\\lib\\site-packages (from python-dateutil>=2.5.3->ibm_watson) (1.15.0)\n",
      "Requirement already satisfied: charset-normalizer~=2.0.0 in e:\\anaconda3\\lib\\site-packages (from requests<3.0,>=2.0->ibm_watson) (2.0.12)\n",
      "Requirement already satisfied: certifi>=2017.4.17 in e:\\anaconda3\\lib\\site-packages (from requests<3.0,>=2.0->ibm_watson) (2020.12.5)\n",
      "Requirement already satisfied: idna<4,>=2.5 in e:\\anaconda3\\lib\\site-packages (from requests<3.0,>=2.0->ibm_watson) (2.10)\n",
      "Building wheels for collected packages: ibm-watson, ibm-cloud-sdk-core\n",
      "  Building wheel for ibm-watson (PEP 517): started\n",
      "  Building wheel for ibm-watson (PEP 517): finished with status 'done'\n",
      "  Created wheel for ibm-watson: filename=ibm_watson-6.0.0-py3-none-any.whl size=336791 sha256=df5d315c13993762e462801bf57d4392c3563cc7e04e821d744652759002ce46\n",
      "  Stored in directory: c:\\users\\dnyanesh\\appdata\\local\\pip\\cache\\wheels\\b1\\79\\34\\ab67fe0700281273e9363602813a4cb18d3ce8f50b6f9d1281\n",
      "  Building wheel for ibm-cloud-sdk-core (setup.py): started\n",
      "  Building wheel for ibm-cloud-sdk-core (setup.py): finished with status 'done'\n",
      "  Created wheel for ibm-cloud-sdk-core: filename=ibm_cloud_sdk_core-3.15.3-py3-none-any.whl size=83617 sha256=cae5f1ec65c06353950f3b5cc93b349d7ad01855e7d4608d8e5c235af4c80c7b\n",
      "  Stored in directory: c:\\users\\dnyanesh\\appdata\\local\\pip\\cache\\wheels\\fa\\7c\\91\\2982d1277c9666132ab82020b595fa25a054eacd7d5a202cb6\n",
      "Successfully built ibm-watson ibm-cloud-sdk-core\n",
      "Installing collected packages: PyJWT, websocket-client, ibm-cloud-sdk-core, ibm-watson\n",
      "  Attempting uninstall: PyJWT\n",
      "    Found existing installation: PyJWT 2.1.0\n",
      "    Uninstalling PyJWT-2.1.0:\n",
      "      Successfully uninstalled PyJWT-2.1.0\n",
      "  Attempting uninstall: websocket-client\n",
      "    Found existing installation: websocket-client 1.3.2\n",
      "    Uninstalling websocket-client-1.3.2:\n",
      "      Successfully uninstalled websocket-client-1.3.2\n",
      "Successfully installed PyJWT-2.4.0 ibm-cloud-sdk-core-3.15.3 ibm-watson-6.0.0 websocket-client-1.1.0\n"
     ]
    }
   ],
   "source": [
    "!pip install ibm_watson"
   ]
  },
  {
   "cell_type": "markdown",
   "metadata": {},
   "source": [
    "### Workflow\n",
    "\n",
    "\n",
    "**We're gonna capture the text in `python`,then we're gonna send this to the `IBM` cloud where the text will be converted to our desired language and the we will convert that `translated text` into a speech using `Watson AI` and then we will output the file**"
   ]
  },
  {
   "cell_type": "markdown",
   "metadata": {},
   "source": [
    "**Inorder to set things up,go to `cloud.ibm.com` and then go to the `Categories` option,select the `Machine Learning and AI` category and then from that select the `Language Translator` category,a new window pop's up,by default the `lite` version will be selected and that's fine,as that's free version and we'll use that,hit on `create` and the service will be created for us and then we'll be getting an `API` key so we'll be using that `API` key for making things going**"
   ]
  },
  {
   "cell_type": "markdown",
   "metadata": {},
   "source": [
    "## 1. Authenticate"
   ]
  },
  {
   "cell_type": "code",
   "execution_count": 2,
   "metadata": {},
   "outputs": [],
   "source": [
    "API_key = 'r5Z3wgHRQnBCd53chcKoVGPBaMsARldTeo-G-UQKMTqm'\n",
    "url = 'https://api.eu-gb.language-translator.watson.cloud.ibm.com/instances/0ab87f9a-a5c9-4204-b7df-9c158acf6b6f'\n"
   ]
  },
  {
   "cell_type": "code",
   "execution_count": 3,
   "metadata": {},
   "outputs": [],
   "source": [
    "## importing dependancies\n",
    "\n",
    "## this is the language translator\n",
    "\n",
    "from ibm_watson import LanguageTranslatorV3\n",
    "\n",
    "# this is the authentication service\n",
    "\n",
    "from ibm_cloud_sdk_core.authenticators import IAMAuthenticator"
   ]
  },
  {
   "cell_type": "code",
   "execution_count": 4,
   "metadata": {},
   "outputs": [],
   "source": [
    "# autheniticating the API key\n",
    "\n",
    "authenticator = IAMAuthenticator(apikey=API_key)\n",
    "\n",
    "# setting our language translator object\n",
    "\n",
    "langtranslator = LanguageTranslatorV3(version='2018-05-01',\n",
    "                                     authenticator=authenticator)\n",
    "\n",
    "# establishing the connection with the service\n",
    "\n",
    "langtranslator.set_service_url(url)"
   ]
  },
  {
   "cell_type": "markdown",
   "metadata": {},
   "source": [
    "## 2.Translate"
   ]
  },
  {
   "cell_type": "markdown",
   "metadata": {},
   "source": [
    "**Now over here we have to refer to the `Language Translator` documentation as that has a heap lot of languages and we need to specify to which language we need to translate the text to,so that can be refered <a href = \"https://cloud.ibm.com/docs/language-translator?topic=language-translator-translation-models\">here</a>,for example if we want to translate the text from `english-hindi` we use the service `en-hi` where `en` refers to `english` and `hi` refers to `hindi` so in that way we set our `model_id`,`translating from code - translating to code`,here are the list of languages from where you can translate from one language to other,just we have to set the code there as shown ↓ in case of english-hindi the code is `en-hi`,in the same way one has to set the code as per the requirements**"
   ]
  },
  {
   "cell_type": "markdown",
   "metadata": {},
   "source": [
    "<table>\n",
    "            <caption>Table 1. Translatable languages</caption>\n",
    "            <thead>\n",
    "              <tr class=\"doc-tr-even\">\n",
    "                <th>Language</th>\n",
    "                <th style=\"text-align:center\">Language code</th>\n",
    "                <th>Language</th>\n",
    "                <th style=\"text-align:center\">Language code</th>\n",
    "              </tr>\n",
    "            </thead>\n",
    "            <tbody>\n",
    "              <tr class=\"doc-tr-odd\">\n",
    "                <td><a href=\"#arabic\">Arabic</a></td>\n",
    "                <td style=\"text-align:center\"><code>ar</code></td>\n",
    "                <td><a href=\"#korean\">Korean</a></td>\n",
    "                <td style=\"text-align:center\"><code>ko</code></td>\n",
    "              </tr>\n",
    "              <tr class=\"doc-tr-even\">\n",
    "                <td><a href=\"#basque\">Basque</a> <strong>[1]</strong></td>\n",
    "                <td style=\"text-align:center\"><code>eu</code></td>\n",
    "                <td><a href=\"#latvian\">Latvian</a></td>\n",
    "                <td style=\"text-align:center\"><code>lv</code></td>\n",
    "              </tr>\n",
    "              <tr class=\"doc-tr-odd\">\n",
    "                <td><a href=\"#bengali\">Bengali</a></td>\n",
    "                <td style=\"text-align:center\"><code>bn</code></td>\n",
    "                <td><a href=\"#lithuanian\">Lithuanian</a></td>\n",
    "                <td style=\"text-align:center\"><code>lt</code></td>\n",
    "              </tr>\n",
    "              <tr class=\"doc-tr-even\">\n",
    "                <td><a href=\"#bosnian\">Bosnian</a></td>\n",
    "                <td style=\"text-align:center\"><code>bs</code></td>\n",
    "                <td><a href=\"#malay\">Malay</a></td>\n",
    "                <td style=\"text-align:center\"><code>ms</code></td>\n",
    "              </tr>\n",
    "              <tr class=\"doc-tr-odd\">\n",
    "                <td><a href=\"#bulgarian\">Bulgarian</a></td>\n",
    "                <td style=\"text-align:center\"><code>bg</code></td>\n",
    "                <td><a href=\"#malayalam\">Malayalam</a></td>\n",
    "                <td style=\"text-align:center\"><code>ml</code></td>\n",
    "              </tr>\n",
    "              <tr class=\"doc-tr-even\">\n",
    "                <td><a href=\"#catalan\">Catalan</a> <strong>[1]</strong></td>\n",
    "                <td style=\"text-align:center\"><code>ca</code></td>\n",
    "                <td><a href=\"#maltese\">Maltese</a></td>\n",
    "                <td style=\"text-align:center\"><code>mt</code></td>\n",
    "              </tr>\n",
    "              <tr class=\"doc-tr-odd\">\n",
    "                <td><a href=\"#chinese-simplified\">Chinese (Simplified)</a></td>\n",
    "                <td style=\"text-align:center\"><code>zh</code></td>\n",
    "                <td><a href=\"#montenegrin\">Montenegrin</a> <strong>[2]</strong></td>\n",
    "                <td style=\"text-align:center\"><code>cnr</code></td>\n",
    "              </tr>\n",
    "              <tr class=\"doc-tr-even\">\n",
    "                <td><a href=\"#chinese-traditional\">Chinese (Traditional)</a></td>\n",
    "                <td style=\"text-align:center\"><code>zh-TW</code></td>\n",
    "                <td><a href=\"#nepali\">Nepali</a></td>\n",
    "                <td style=\"text-align:center\"><code>ne</code></td>\n",
    "              </tr>\n",
    "              <tr class=\"doc-tr-odd\">\n",
    "                <td><a href=\"#croatian\">Croatian</a></td>\n",
    "                <td style=\"text-align:center\"><code>hr</code></td>\n",
    "                <td><a href=\"#norwegian-bokmal\">Norwegian Bokmål</a></td>\n",
    "                <td style=\"text-align:center\"><code>nb</code></td>\n",
    "              </tr>\n",
    "              <tr class=\"doc-tr-even\">\n",
    "                <td><a href=\"#czech\">Czech</a></td>\n",
    "                <td style=\"text-align:center\"><code>cs</code></td>\n",
    "                <td><a href=\"#polish\">Polish</a></td>\n",
    "                <td style=\"text-align:center\"><code>pl</code></td>\n",
    "              </tr>\n",
    "              <tr class=\"doc-tr-odd\">\n",
    "                <td><a href=\"#danish\">Danish</a></td>\n",
    "                <td style=\"text-align:center\"><code>da</code></td>\n",
    "                <td><a href=\"#portuguese\">Portuguese</a></td>\n",
    "                <td style=\"text-align:center\"><code>pt</code></td>\n",
    "              </tr>\n",
    "              <tr class=\"doc-tr-even\">\n",
    "                <td><a href=\"#dutch\">Dutch</a></td>\n",
    "                <td style=\"text-align:center\"><code>nl</code></td>\n",
    "                <td><a href=\"#romanian\">Romanian</a></td>\n",
    "                <td style=\"text-align:center\"><code>ro</code></td>\n",
    "              </tr>\n",
    "              <tr class=\"doc-tr-odd\">\n",
    "                <td><a href=\"#english\">English</a></td>\n",
    "                <td style=\"text-align:center\"><code>en</code></td>\n",
    "                <td><a href=\"#russian\">Russian</a></td>\n",
    "                <td style=\"text-align:center\"><code>ru</code></td>\n",
    "              </tr>\n",
    "              <tr class=\"doc-tr-even\">\n",
    "                <td><a href=\"#estonian\">Estonian</a></td>\n",
    "                <td style=\"text-align:center\"><code>et</code></td>\n",
    "                <td><a href=\"#serbian\">Serbian</a> <strong>[3]</strong></td>\n",
    "                <td style=\"text-align:center\"><code>sr</code></td>\n",
    "              </tr>\n",
    "              <tr class=\"doc-tr-odd\">\n",
    "                <td><a href=\"#finnish\">Finnish</a></td>\n",
    "                <td style=\"text-align:center\"><code>fi</code></td>\n",
    "                <td><a href=\"#sinhala\">Sinhala</a></td>\n",
    "                <td style=\"text-align:center\"><code>si</code></td>\n",
    "              </tr>\n",
    "              <tr class=\"doc-tr-even\">\n",
    "                <td><a href=\"#french\">French</a></td>\n",
    "                <td style=\"text-align:center\"><code>fr</code></td>\n",
    "                <td><a href=\"#slovak\">Slovak</a></td>\n",
    "                <td style=\"text-align:center\"><code>sk</code></td>\n",
    "              </tr>\n",
    "              <tr class=\"doc-tr-odd\">\n",
    "                <td><a href=\"#french-canadian\">French (Canadian)</a></td>\n",
    "                <td style=\"text-align:center\"><code>fr</code></td>\n",
    "                <td><a href=\"#slovenian\">Slovenian</a></td>\n",
    "                <td style=\"text-align:center\"><code>sl</code></td>\n",
    "              </tr>\n",
    "              <tr class=\"doc-tr-even\">\n",
    "                <td><a href=\"#german\">German</a></td>\n",
    "                <td style=\"text-align:center\"><code>de</code></td>\n",
    "                <td><a href=\"#spanish\">Spanish</a></td>\n",
    "                <td style=\"text-align:center\"><code>es</code></td>\n",
    "              </tr>\n",
    "              <tr class=\"doc-tr-odd\">\n",
    "                <td><a href=\"#greek\">Greek</a></td>\n",
    "                <td style=\"text-align:center\"><code>el</code></td>\n",
    "                <td><a href=\"#swedish\">Swedish</a></td>\n",
    "                <td style=\"text-align:center\"><code>sv</code></td>\n",
    "              </tr>\n",
    "              <tr class=\"doc-tr-even\">\n",
    "                <td><a href=\"#gujarati\">Gujarati</a></td>\n",
    "                <td style=\"text-align:center\"><code>gu</code></td>\n",
    "                <td><a href=\"#tamil\">Tamil</a></td>\n",
    "                <td style=\"text-align:center\"><code>ta</code></td>\n",
    "              </tr>\n",
    "              <tr class=\"doc-tr-odd\">\n",
    "                <td><a href=\"#hebrew\">Hebrew</a></td>\n",
    "                <td style=\"text-align:center\"><code>he</code></td>\n",
    "                <td><a href=\"#telugu\">Telugu</a></td>\n",
    "                <td style=\"text-align:center\"><code>te</code></td>\n",
    "              </tr>\n",
    "              <tr class=\"doc-tr-even\">\n",
    "                <td><a href=\"#hindi\">Hindi</a></td>\n",
    "                <td style=\"text-align:center\"><code>hi</code></td>\n",
    "                <td><a href=\"#thai\">Thai</a></td>\n",
    "                <td style=\"text-align:center\"><code>th</code></td>\n",
    "              </tr>\n",
    "              <tr class=\"doc-tr-odd\">\n",
    "                <td><a href=\"#hungarian\">Hungarian</a></td>\n",
    "                <td style=\"text-align:center\"><code>hu</code></td>\n",
    "                <td><a href=\"#turkish\">Turkish</a></td>\n",
    "                <td style=\"text-align:center\"><code>tr</code></td>\n",
    "              </tr>\n",
    "              <tr class=\"doc-tr-even\">\n",
    "                <td><a href=\"#irish\">Irish</a></td>\n",
    "                <td style=\"text-align:center\"><code>ga</code></td>\n",
    "                <td><a href=\"#ukrainian\">Ukrainian</a></td>\n",
    "                <td style=\"text-align:center\"><code>uk</code></td>\n",
    "              </tr>\n",
    "              <tr class=\"doc-tr-odd\">\n",
    "                <td><a href=\"#indonesian\">Indonesian</a></td>\n",
    "                <td style=\"text-align:center\"><code>id</code></td>\n",
    "                <td><a href=\"#urdu\">Urdu</a></td>\n",
    "                <td style=\"text-align:center\"><code>ur</code></td>\n",
    "              </tr>\n",
    "              <tr class=\"doc-tr-even\">\n",
    "                <td><a href=\"#italian\">Italian</a></td>\n",
    "                <td style=\"text-align:center\"><code>it</code></td>\n",
    "                <td><a href=\"#vietnamese\">Vietnamese</a></td>\n",
    "                <td style=\"text-align:center\"><code>vi</code></td>\n",
    "              </tr>\n",
    "              <tr class=\"doc-tr-odd\">\n",
    "                <td><a href=\"#japanese\">Japanese</a></td>\n",
    "                <td style=\"text-align:center\"><code>ja</code></td>\n",
    "                <td><a href=\"#welsh\">Welsh</a></td>\n",
    "                <td style=\"text-align:center\"><code>cy</code></td>\n",
    "              </tr>\n",
    "            </tbody>\n",
    "          </table>"
   ]
  },
  {
   "cell_type": "code",
   "execution_count": 5,
   "metadata": {},
   "outputs": [],
   "source": [
    "translation = langtranslator.translate(text='Hello World',model_id='en-hi')"
   ]
  },
  {
   "cell_type": "code",
   "execution_count": 6,
   "metadata": {},
   "outputs": [
    {
     "data": {
      "text/plain": [
       "{'translations': [{'translation': 'हेलो वर्ल्ड'}],\n",
       " 'word_count': 2,\n",
       " 'character_count': 11}"
      ]
     },
     "execution_count": 6,
     "metadata": {},
     "output_type": "execute_result"
    }
   ],
   "source": [
    "translation.get_result()"
   ]
  },
  {
   "cell_type": "code",
   "execution_count": 7,
   "metadata": {},
   "outputs": [
    {
     "data": {
      "text/plain": [
       "{'translations': [{'translation': 'आधुनिक आनुवंशिकी में आम सहमति के अनुसार, शरीर रचना की दृष्टि से आधुनिक मानव पहले भारतीय उपमहाद्वीप पर अफ्रीका से 73,000 से 55,000 वर्ष पहले आ गए थे. [1] हालांकि, सबसे पहले ज्ञात मानव दक्षिण एशिया में 30,000 साल पहले की तारीख में ही रहता है. स्थायी जीवन, जिसमें खेती और पशुपालन के लिए संक्रमण से संक्रमण शामिल है, लगभग 7,000 बीसीई के आसपास दक्षिण एशिया में शुरू हुआ. मेहरगढ़ की उपस्थिति के स्थल पर गेहूं और जौ के निष्कासन का विवरण दिया जा सकता है, इसके बाद बकरी, भेड़ और मवेशी का तेजी से पालन किया जा सकता है. [2] 4,500 ई. पू. तक, बसा हुआ जीवन व्यापक रूप से फैल गया, [2] और धीरे-धीरे सिंधु घाटी की सभ्यता, जो प्राचीन मिस्र और मेसोपोटामिया के साथ समकालीन थी, में धीरे धीरे विकसित होना शुरू हुआ. यह सभ्यता 2,500 ईसा पूर्व और 1900 ईसा पूर्व के बीच विकसित हुई, जो आज पाकिस्तान और उत्तर-पश्चिमी भारत है, और इसकी शहरी नियोजन, पकी ईंट के घरों, विस्तृत जल निकासी और पानी की आपूर्ति के लिए जाना जाता था। [3]'}],\n",
       " 'word_count': 179,\n",
       " 'character_count': 949}"
      ]
     },
     "execution_count": 7,
     "metadata": {},
     "output_type": "execute_result"
    }
   ],
   "source": [
    "## trying for bigger text\n",
    "\n",
    "text = 'According to consensus in modern genetics anatomically modern humans first arrived on the Indian subcontinent from Africa between 73,000 and 55,000 years ago.[1] However, the earliest known human remains in South Asia date to 30,000 years ago. Settled life, which involves the transition from foraging to farming and pastoralism, began in South Asia around 7,000 BCE. At the site of Mehrgarh presence can be documented of the domestication of wheat and barley, rapidly followed by that of goats, sheep, and cattle.[2] By 4,500 BCE, settled life had spread more widely,[2] and began to gradually evolve into the Indus Valley Civilization, an early civilization of the Old world, which was contemporaneous with Ancient Egypt and Mesopotamia. This civilisation flourished between 2,500 BCE and 1900 BCE in what today is Pakistan and north-western India, and was noted for its urban planning, baked brick houses, elaborate drainage, and water supply.[3]'\n",
    "\n",
    "translation = langtranslator.translate(text=text,model_id='en-hi')\n",
    "\n",
    "translation.get_result()"
   ]
  },
  {
   "cell_type": "markdown",
   "metadata": {},
   "source": [
    "**An awesome application of this is say that you're having a webpage and the local people are not able to understand english,they can only understand the local language,so make a button named translate on the webpage and then render all the english webpage content to the backend model and then the model at the backend will translate the text and we can display this text in the template which is the translated text**"
   ]
  },
  {
   "cell_type": "code",
   "execution_count": 8,
   "metadata": {},
   "outputs": [
    {
     "data": {
      "text/plain": [
       "'आधुनिक आनुवंशिकी में आम सहमति के अनुसार, शरीर रचना की दृष्टि से आधुनिक मानव पहले भारतीय उपमहाद्वीप पर अफ्रीका से 73,000 से 55,000 वर्ष पहले आ गए थे. [1] हालांकि, सबसे पहले ज्ञात मानव दक्षिण एशिया में 30,000 साल पहले की तारीख में ही रहता है. स्थायी जीवन, जिसमें खेती और पशुपालन के लिए संक्रमण से संक्रमण शामिल है, लगभग 7,000 बीसीई के आसपास दक्षिण एशिया में शुरू हुआ. मेहरगढ़ की उपस्थिति के स्थल पर गेहूं और जौ के निष्कासन का विवरण दिया जा सकता है, इसके बाद बकरी, भेड़ और मवेशी का तेजी से पालन किया जा सकता है. [2] 4,500 ई. पू. तक, बसा हुआ जीवन व्यापक रूप से फैल गया, [2] और धीरे-धीरे सिंधु घाटी की सभ्यता, जो प्राचीन मिस्र और मेसोपोटामिया के साथ समकालीन थी, में धीरे धीरे विकसित होना शुरू हुआ. यह सभ्यता 2,500 ईसा पूर्व और 1900 ईसा पूर्व के बीच विकसित हुई, जो आज पाकिस्तान और उत्तर-पश्चिमी भारत है, और इसकी शहरी नियोजन, पकी ईंट के घरों, विस्तृत जल निकासी और पानी की आपूर्ति के लिए जाना जाता था। [3]'"
      ]
     },
     "execution_count": 8,
     "metadata": {},
     "output_type": "execute_result"
    }
   ],
   "source": [
    "translation.get_result()['translations'][0]['translation']"
   ]
  },
  {
   "cell_type": "code",
   "execution_count": null,
   "metadata": {},
   "outputs": [],
   "source": []
  }
 ],
 "metadata": {
  "kernelspec": {
   "display_name": "Python 3.8.8 ('base')",
   "language": "python",
   "name": "python3"
  },
  "language_info": {
   "codemirror_mode": {
    "name": "ipython",
    "version": 3
   },
   "file_extension": ".py",
   "mimetype": "text/x-python",
   "name": "python",
   "nbconvert_exporter": "python",
   "pygments_lexer": "ipython3",
   "version": "3.8.8"
  },
  "vscode": {
   "interpreter": {
    "hash": "f8b40d688a12481f01eadf7380c47edd8a49484a47dba3db091451640e880c68"
   }
  }
 },
 "nbformat": 4,
 "nbformat_minor": 4
}
